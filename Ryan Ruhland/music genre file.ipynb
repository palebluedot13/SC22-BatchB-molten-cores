{
 "cells": [
  {
   "cell_type": "code",
   "execution_count": 42,
   "metadata": {
    "collapsed": false,
    "scrolled": true
   },
   "outputs": [
   ],
   "source": [
    "#imports\n",
    "import pandas as pd\n",
    "import plotly.express as px\n",
    "import numpy as np\n",
    "import seaborn as sns\n",
    "import plotly.io as pio\n",
    "import numpy as np\n",
    "import xgboost as xgb\n",
    "import matplotlib.pyplot as plt\n",
    "import plotly.graph_objects as go\n",
    "\n",
    "from xgboost import XGBClassifier\n",
    "from sklearn.model_selection import train_test_split\n",
    "from sklearn.metrics import make_scorer, f1_score, accuracy_score, confusion_matrix, classification_report,roc_curve, roc_auc_score\n",
    "from sklearn.preprocessing import StandardScaler\n",
    "from sklearn import preprocessing\n",
    "from sklearn.model_selection import GridSearchCV\n",
    "\n",
    "#importing datasets\n",
    "music_data = pd.read_csv(\"music_genre.csv\")\n",
    "df = music_data.copy(deep=True)\n",
    "\n",
    "#makes theme dark for all ploty visuals\n",
    "pio.templates.default = \"plotly_dark\"\n",
    "\n",
    "\n",
    "\n",
    "\n",
    "\n",
    "#dropping irrelevent columns\n",
    "badInfo = [\"instance_id\",\"obtained_date\",\"artist_name\",\"track_name\"]\n",
    "df.drop(columns=badInfo,axis=1,inplace=True)\n",
    "\n",
    "#dropping null rows\n",
    "df.dropna(inplace=True)\n",
    "df.reset_index(drop=True, inplace=True) #Very good practice to reset how your rows are counted when you drop rows.\n",
    "\n",
    "#fixing tempo\n",
    "df[\"tempo\"]=df[\"tempo\"].replace(\"?\",np.nan)\n",
    "df[\"tempo\"] = df[\"tempo\"].astype(\"float\")\n",
    "df[\"tempo\"]=df.groupby(\"music_genre\")[\"tempo\"].transform(lambda x: x.fillna(x.mean(skipna=True)))\n",
    "\n",
    "#fixing duration\n",
    "df[\"duration_ms\"]=df[\"duration_ms\"].replace(-1.0,np.nan)\n",
    "df[\"duration_ms\"]=df.groupby(\"music_genre\")[\"duration_ms\"].transform(lambda x: x.fillna(x.mean(skipna=True)))\n",
    "df['duration_ms'] = np.around(df['duration_ms'],2)"
   ]
  },
  {
   "cell_type": "code",
   "execution_count": 43,
   "metadata": {
    "collapsed": false
   },
   "outputs": [
    {
     "name": "stdout",
     "output_type": "stream",
     "text": [
      "{'A#': 0, 'D': 1, 'G#': 2, 'C#': 3, 'F#': 4, 'B': 5, 'G': 6, 'F': 7, 'A': 8, 'C': 9, 'E': 10, 'D#': 11} \n",
      "\n",
      "{'Minor': 0, 'Major': 1} \n",
      "\n",
      "{'Electronic': 0, 'Anime': 1, 'Jazz': 2, 'Alternative': 3, 'Country': 4, 'Rap': 5, 'Blues': 6, 'Rock': 7, 'Classical': 8, 'Hip-Hop': 9} \n",
      "\n"
     ]
    }
   ],
   "source": [
    "'''\n",
    "#creating dummy variables for categorical variables\n",
    "dummies = pd.get_dummies(df[\"key\"])\n",
    "df[\"A\"] = dummies[\"A\"]\n",
    "df[\"B\"] = dummies[\"B\"]\n",
    "df[\"C\"] = dummies[\"C\"]\n",
    "df[\"D\"] = dummies[\"D\"]\n",
    "df[\"E\"] = dummies[\"E\"]\n",
    "df[\"F\"] = dummies[\"F\"]\n",
    "df[\"G\"] = dummies[\"G\"]\n",
    "df[\"A#\"] = dummies[\"A#\"]\n",
    "df[\"C#\"] = dummies[\"C#\"]\n",
    "df[\"D#\"] = dummies[\"D#\"]\n",
    "df[\"F#\"] = dummies[\"F#\"]\n",
    "df[\"G#\"] = dummies[\"G#\"]\n",
    "df.drop(\"key\", axis = 1, inplace = True)\n",
    "\n",
    "dummies = pd.get_dummies(df[\"mode\"])\n",
    "df[\"Major\"] = dummies[\"Major\"]\n",
    "df[\"Minor\"] = dummies[\"Minor\"]\n",
    "df.drop(\"mode\", axis = 1, inplace = True)\n",
    "\n",
    "dummies = pd.get_dummies(df[\"music_genre\"])\n",
    "df[\"Electronic\"] = dummies[\"Electronic\"]\n",
    "df[\"Anime\"] = dummies[\"Anime\"]\n",
    "df[\"Jazz\"] = dummies[\"Jazz\"]\n",
    "df[\"Alternative\"] = dummies[\"Alternative\"]\n",
    "df[\"Country\"] = dummies[\"Country\"]\n",
    "df[\"Rap\"] = dummies[\"Rap\"]\n",
    "df[\"Blues\"] = dummies[\"Blues\"]\n",
    "df[\"Rock\"] = dummies[\"Rock\"]\n",
    "df[\"Classical\"] = dummies[\"Classical\"]\n",
    "df[\"Hip-Hop\"] = dummies[\"Hip-Hop\"]\n",
    "df.drop(\"music_genre\", axis = 1, inplace = True)\n",
    "df.head()\n",
    "'''\n",
    "\n",
    "\n",
    "#This function replaces labels, such as Jazz, Rock, Rap, etc. with numbers. Each label now carries it's own number\n",
    "\n",
    "def stringToInt(dataFrame,col):\n",
    "    test = {}\n",
    "    for i in dict(enumerate(dataFrame[col].unique())).items():#is a dictionary of the keys and corespodening number\n",
    "        #makes it so the keys and values of the dictionary switch\n",
    "        test[i[1]]=i[0]\n",
    "    print(test,'\\n')\n",
    "    return dataFrame[col].map(test)\n",
    "\n",
    "def getScore(y_test,y_hat):\n",
    "    labels = ['Electronic', 'Anime', 'Jazz', 'Alternative', 'Country', 'Rap', 'Blues', 'Rock', 'Classical', 'Hip-Hop']\n",
    "    print((np.sum((y_test - y_hat)**2))/len(y_test) )#mean squared error\n",
    "    print(classification_report(y_test, y_hat,target_names=[i+\":\" for i in labels]))#getting dataframe\n",
    "df = pd.read_csv(\"music_genre.csv\")\n",
    "\n",
    "#dropping columns\n",
    "badInfo = [\"instance_id\",\"obtained_date\",\"artist_name\",\"track_name\"]\n",
    "df.drop(columns=badInfo,axis=1,inplace=True)\n",
    "\n",
    "#dropping null rows\n",
    "df.dropna(inplace=True)\n",
    "df.reset_index(drop=True, inplace=True) #Very good practice to reset how your rows are counted when you drop rows.\n",
    "\n",
    "#fixing the problem with 'tempo' column\n",
    "df[\"tempo\"]=df[\"tempo\"].replace(\"?\",np.nan)\n",
    "df[\"tempo\"] = df[\"tempo\"].astype(\"float\")\n",
    "df[\"tempo\"]=df.groupby(\"music_genre\")[\"tempo\"].transform(lambda x: x.fillna(x.mean(skipna=True)))\n",
    "df['tempo'] = np.around(df['tempo'],2)\n",
    "\n",
    "#fixing the problem with 'duration' column\n",
    "df[\"duration_ms\"]=df[\"duration_ms\"].replace(-1.0,np.nan)\n",
    "df[\"duration_ms\"]=df.groupby(\"music_genre\")[\"duration_ms\"].transform(lambda x: x.fillna(x.mean(skipna=True)))\n",
    "df['duration_ms'] = np.around(df['duration_ms'],2)\n",
    "\n",
    "#changing the values from string to int\n",
    "df['key'] = stringToInt(df,'key')\n",
    "df['mode'] = stringToInt(df,'mode')\n",
    "df['music_genre_name'] = df['music_genre']\n",
    "df['music_genre'] = stringToInt(df,'music_genre')\n",
    "\n",
    "pio.templates.default = \"plotly_dark\"\n",
    "\n",
    "#dfxg = copy.deepcopy(df)\n",
    "\n",
    "#Setting X to be all the input columns \n",
    "X = df.loc[:,df.columns[:-2]]\n",
    "\n",
    "\n",
    "#Setting y to be the desired column\n",
    "y= df['music_genre']#what we want\n",
    "\n",
    "#Splitting test and train ratio\n",
    "X_train, X_test, y_train, y_test = train_test_split(X, y, test_size=0.2, random_state=0)\n",
    "\n",
    "#Scaling X variables\n",
    "sc = preprocessing.StandardScaler()\n",
    "X_train = sc.fit_transform(X_train)\n",
    "X_test = sc.transform (X_test)\n",
    "\n",
    "#for heat map\n",
    "labels = ['Electronic', 'Anime', 'Jazz', 'Alternative', 'Country', 'Rap', 'Blues', 'Rock', 'Classical', 'Hip-Hop']"
   ]
  },
  {
   "cell_type": "code",
   "execution_count": 44,
   "metadata": {
    "collapsed": false
   },
   "outputs": [
    {
     "name": "stdout",
     "output_type": "stream",
     "text": [
      "Fitting 2 folds for each of 96 candidates, totalling 192 fits\n"
     ]
    }
   ],
   "source": [
    "# genre_list = ['Electronic', 'Anime', 'Jazz', 'Alternative', 'Country', 'Rap', 'Blues', 'Rock', 'Classical', 'Hip-Hop']\n",
    "# # target = pd.get_dummies(dummies)\n",
    "# # input_columns = df.iloc[:,:-10]\n",
    "# # x_train, x_test, y_train, y_test = train_test_split(input_columns, target, train_size=0.8)\n",
    "# # scaler = preprocessing.StandardScaler().fit(x_train)\n",
    "# # x_train_scaled = scaler.transform(x_train)\n",
    "# # x_test_scaled = scaler.transform(x_test)\n",
    "\n",
    "# #use_label_encoder=False, eval_metric='mlogloss'\n",
    "# #booster='gbtree', max_depth=4, subsample=.5, gamma= 4, colsample_bytree=.5\n",
    "# model = XGBClassifier()\n",
    "# model_gs = GridSearchCV(model,param_grid=PARAMETERS,cv=3,scoring=\"accuracy\")\n",
    "# model_gs.fit(X_train,y_train,early_stopping_rounds=10, eval_metric=\"error\",eval_set=eval_set,verbose=0)\n",
    "# print(model_gs.best_params_)\n",
    "# #model.fit(x_train_scaled, y_train)\n",
    "\n",
    "\n",
    "\n",
    "\n",
    "estimator = XGBClassifier(\n",
    "    objective= 'binary:logistic',\n",
    "    nthread=4,\n",
    "    seed=42\n",
    ")\n",
    "parameters = {\n",
    "    'max_depth': range (2, 10, 1),\n",
    "    'n_estimators': range(60, 220, 40),\n",
    "    'learning_rate': [0.1, 0.01, 0.05]\n",
    "}\n",
    "grid_search = GridSearchCV(\n",
    "    estimator=estimator,\n",
    "    param_grid=parameters,\n",
    "    scoring = 'roc_auc',\n",
    "    n_jobs = 10,\n",
    "    cv = 2,\n",
    "    verbose=True\n",
    ")\n",
    "grid_search.fit(X_train, y_train)\n",
    "\n",
    "grid_search.best_estimator_\n",
    "\n",
    "'''\n",
    "model = xgb.XGBClassifier(use_label_encoder=False, eval_metric='mlogloss')\n",
    "model.fit(X_train, y_train).predict(X_test)\n",
    "\n",
    "y_pred = model.predict(X_test)\n",
    "accuracy = accuracy_score(y_test, y_pred)\n",
    "print(\"Overall Accuracy: \", accuracy)\n",
    "\n",
    "total_squared_error = (np.sum((y_test - y_pred)**2))\n",
    "mean_squared_error = total_squared_error/len(y_test)\n",
    "print(mean_squared_error)\n",
    "\n",
    "#confusion matrix\n",
    "labels = ['Electronic', 'Anime', 'Jazz', 'Alternative', 'Country', 'Rap', 'Blues', 'Rock', 'Classical', 'Hip-Hop']\n",
    "# sns.heatmap(confusion_matrix(y_test.values.argmax(axis=1), y_pred.argmax(axis=1)), annot=True, fmt='g', xticklabels=labels, yticklabels=labels)\n",
    "sns.heatmap(confusion_matrix(y_test, y_pred), annot=True, fmt='g', xticklabels=labels, yticklabels=labels)\n",
    "getScore(y_test,y_pred)\n",
    "'''"
   ]
  },
  {
   "cell_type": "code",
   "execution_count": 2,
   "metadata": {
    "collapsed": false
   },
   "outputs": [
    {
     "ename": "NameError",
     "evalue": "name 'grid_search' is not defined",
     "output_type": "error",
     "traceback": [
      "\u001b[0;31m---------------------------------------------------------------------------\u001b[0m",
      "\u001b[0;31mNameError\u001b[0m                                 Traceback (most recent call last)",
      "Input \u001b[0;32mIn [2]\u001b[0m, in \u001b[0;36m<cell line: 1>\u001b[0;34m()\u001b[0m\n\u001b[0;32m----> 1\u001b[0m \u001b[38;5;28mprint\u001b[39m(\u001b[43mgrid_search\u001b[49m\u001b[38;5;241m.\u001b[39mbest_estimator)\n",
      "\u001b[0;31mNameError\u001b[0m: name 'grid_search' is not defined"
     ]
    }
   ],
   "source": [
    "print(grid_search.best_estimator_)"
   ]
  },
  {
   "cell_type": "code",
   "execution_count": 26,
   "metadata": {
    "collapsed": false
   },
   "outputs": [
    {
     "data": {
      "text/plain": [
       "<AxesSubplot:>"
      ]
     },
     "execution_count": 26,
     "metadata": {
     },
     "output_type": "execute_result"
    },
    {
     "data": {
      "image/png": "[encoded data removed]",
      "text/plain": [
       "<Figure size 432x288 with 2 Axes>"
      ]
     },
     "execution_count": 26,
     "metadata": {
      "needs_background": "light"
     },
     "output_type": "execute_result"
    }
   ],
   "source": [
    "labels = ['Electronic', 'Anime', 'Jazz', 'Alternative', 'Country', 'Rap', 'Blues', 'Rock', 'Classical', 'Hip-Hop']\n",
    "sns.heatmap(confusion_matrix(y_test.values.argmax(axis=1), y_pred.argmax(axis=1)), annot=True, fmt='g', xticklabels=labels, yticklabels=labels)"
   ]
  }
 ],
 "metadata": {
  "kernelspec": {
   "display_name": "Python (ds_env)",
   "language": "python",
   "metadata": {
    "debugger": true
   },
   "name": "ds_env",
   "resource_dir": "/projects/afffd160-11c4-4b0e-8185-cf29c729cf98/.local/share/jupyter/kernels/ds_env"
  },
  "language_info": {
   "codemirror_mode": {
    "name": "ipython",
    "version": 3
   },
   "file_extension": ".py",
   "mimetype": "text/x-python",
   "name": "python",
   "nbconvert_exporter": "python",
   "pygments_lexer": "ipython3",
   "version": "3.8.13"
  }
 },
 "nbformat": 4,
 "nbformat_minor": 4
}