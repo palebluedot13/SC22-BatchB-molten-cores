{
 "cells": [
  {
   "cell_type": "markdown",
   "metadata": {
    "collapsed": false
   },
   "source": [
    "# Music Genre Prediction: Molten Cores\n",
    "\n",
    "<img src=\"https://www.warcrafttavern.com/wp-content/uploads/2020/10/WoW-Classic-Molten-Core-Guide-1024x729.jpg\" alt=\"img\" width=\"800\"/>"
   ]
  },
  {
   "cell_type": "markdown",
   "metadata": {
    "collapsed": false
   },
   "source": [
    "# ____________________________________________________________________________________________________\n",
    "\n"
   ]
  },
  {
   "cell_type": "markdown",
   "metadata": {
    "collapsed": false
   },
   "source": [
    "## Notes:\n",
    "- ### instrumentalness: vocals in a track\n",
    "\n",
    "- ### speechiness: detects the pressents of vocal words in a track\n",
    "\n",
    "- ### music genre: 10 different types\n",
    "\t0. Electronic\n",
    "    1. Classical\n",
    "    2. Jazz\n",
    "    3. anime\n",
    "    4. Rock\n",
    "    5. country\n",
    "    6. Rap\n",
    "    7. Blues\n",
    "    8. Hip-Hop\n",
    "    9.Alternative\n",
    "\n",
    "# problems with table:\n",
    "\n",
    "- [x] negative duration\n",
    "- [x] missing tempos\n",
    "- [x] rows 10000-10005 are nan values for every column\n",
    "- [ ] negative loudness"
   ]
  },
  {
   "cell_type": "markdown",
   "metadata": {
    "collapsed": false
   },
   "source": [
    "##### [Markdown Guide cheat Sheet](https://www.markdownguide.org/cheat-sheet/)\n",
    "\n"
   ]
  },
  {
   "cell_type": "markdown",
   "metadata": {
    "collapsed": false
   },
   "source": [
    "# ____________________________________________________________________________________________________\n",
    "\n"
   ]
  },
  {
   "cell_type": "markdown",
   "metadata": {
    "collapsed": false
   },
   "source": [
    "## All Libaries & Imports "
   ]
  },
  {
   "cell_type": "code",
   "execution_count": 214,
   "metadata": {
    "collapsed": false
   },
   "outputs": [
   ],
   "source": [
    "import pandas as pd\n",
    "import numpy as np\n",
    "import plotly.express as px\n",
    "import plotly.io as pio\n",
    "import sklearn\n",
    "from sklearn.model_selection import train_test_split\n",
    "from sklearn.ensemble import RandomForestClassifier\n",
    "from sklearn.ensemble import RandomForestRegressor\n",
    "from sklearn import preprocessing\n",
    "from sklearn import utils\n",
    "from sklearn.tree import DecisionTreeClassifier\n",
    "from sklearn.tree import export_graphviz\n",
    "from sklearn.datasets import load_iris\n",
    "from IPython.display import Image\n",
    "from subprocess import call\n",
    "from sklearn import tree\n",
    "import copy\n",
    "from sklearn.linear_model import LogisticRegression\n",
    "from sklearn.metrics import accuracy_score, classification_report, confusion_matrix\n",
    "import xgboost as xgb\n",
    "\n",
    "#for Naïve Bayes\n",
    "import seaborn as sns\n",
    "from sklearn import preprocessing\n",
    "from sklearn.naive_bayes import GaussianNB\n",
    "from sklearn.metrics import make_scorer, f1_score, accuracy_score, confusion_matrix, classification_report\n",
    "from xgboost import XGBClassifier\n",
    "\n",
    "from sklearn.tree import DecisionTreeClassifier # Import Decision Tree Classifier\n",
    "from sklearn.model_selection import train_test_split # Import train_test_split function\n",
    "from sklearn import metrics #Import scikit-learn metrics module for accuracy calculation"
   ]
  },
  {
   "cell_type": "markdown",
   "metadata": {
    "collapsed": false
   },
   "source": [
    "# ____________________________________________________________________________________________________\n",
    "\n"
   ]
  },
  {
   "cell_type": "markdown",
   "metadata": {
    "collapsed": false
   },
   "source": [
    "## Cleaning data frame"
   ]
  },
  {
   "cell_type": "code",
   "execution_count": 215,
   "metadata": {
    "collapsed": false
   },
   "outputs": [
   ],
   "source": [
    "#functions\n",
    "def stringToInt(dataFrame,col):\n",
    "    test = {}\n",
    "    for i in dict(enumerate(dataFrame[col].unique())).items():#is a dictionary of the keys and corespodening number\n",
    "        #makes it so the keys and values of the dictionary switch\n",
    "        test[i[1]]=i[0]\n",
    "    print(test,'\\n')\n",
    "    return dataFrame[col].map(test)"
   ]
  },
  {
   "cell_type": "code",
   "execution_count": 222,
   "metadata": {
    "collapsed": false
   },
   "outputs": [
   ],
   "source": [
    "music_genre = pd.read_csv(\"music_genre.csv\")\n",
    "df = music_genre.copy(deep=True)\n",
    "\n",
    "df = copy.deepcopy(music_genre)"
   ]
  },
  {
   "cell_type": "code",
   "execution_count": 223,
   "metadata": {
    "collapsed": false
   },
   "outputs": [
    {
     "name": "stdout",
     "output_type": "stream",
     "text": [
      "{'A#': 0, 'D': 1, 'G#': 2, 'C#': 3, 'F#': 4, 'B': 5, 'G': 6, 'F': 7, 'A': 8, 'C': 9, 'E': 10, 'D#': 11} \n",
      "\n",
      "{'Minor': 0, 'Major': 1} \n",
      "\n",
      "{'Electronic': 0, 'Anime': 1, 'Jazz': 2, 'Alternative': 3, 'Country': 4, 'Rap': 5, 'Blues': 6, 'Rock': 7, 'Classical': 8, 'Hip-Hop': 9} \n",
      "\n"
     ]
    }
   ],
   "source": [
    "#dropping columns\n",
    "badInfo = [\"instance_id\",\"obtained_date\",\"artist_name\",\"track_name\"]\n",
    "df.drop(columns=badInfo,axis=1,inplace=True)\n",
    "#dropping null rows\n",
    "df.dropna(inplace=True)\n",
    "df.reset_index(drop=True, inplace=True) #Very good practice to reset how your rows are counted when you drop rows.\n",
    "\n",
    "#fixing tempo\n",
    "df[\"tempo\"]=df[\"tempo\"].replace(\"?\",np.nan)\n",
    "df[\"tempo\"] = df[\"tempo\"].astype(\"float\")\n",
    "df[\"tempo\"]=df.groupby(\"music_genre\")[\"tempo\"].transform(lambda x: x.fillna(x.mean(skipna=True)))\n",
    "df['tempo'] = np.around(df['tempo'],2)\n",
    "\n",
    "#fixing duration\n",
    "df[\"duration_ms\"]=df[\"duration_ms\"].replace(-1.0,np.nan)\n",
    "df[\"duration_ms\"]=df.groupby(\"music_genre\")[\"duration_ms\"].transform(lambda x: x.fillna(x.mean(skipna=True)))\n",
    "df['duration_ms'] = np.around(df['duration_ms'],2)\n",
    "\n",
    "#change the values from string to int\n",
    "df['key'] = stringToInt(df,'key')\n",
    "df['mode'] = stringToInt(df,'mode')\n",
    "df['music_genre_name'] = df['music_genre']\n",
    "df['music_genre'] = stringToInt(df,'music_genre')\n",
    "\n",
    "pio.templates.default = \"plotly_dark\""
   ]
  },
  {
   "cell_type": "code",
   "execution_count": 0,
   "metadata": {
    "collapsed": false,
    "scrolled": true
   },
   "outputs": [
   ],
   "source": [
    "df.head()"
   ]
  },
  {
   "cell_type": "code",
   "execution_count": 0,
   "metadata": {
    "collapsed": false,
    "scrolled": true
   },
   "outputs": [
   ],
   "source": [
    "df.tail()"
   ]
  },
  {
   "cell_type": "markdown",
   "metadata": {
    "collapsed": false
   },
   "source": [
    "# ____________________________________________________________________________________________________\n",
    "\n"
   ]
  },
  {
   "cell_type": "markdown",
   "metadata": {
    "collapsed": false
   },
   "source": [
    "## Plot\n",
    "\n"
   ]
  },
  {
   "cell_type": "code",
   "execution_count": 0,
   "metadata": {
    "collapsed": false
   },
   "outputs": [
   ],
   "source": [
    "px.bar(df.sort_values(by=[\"music_genre_name\"]), x='popularity', y='acousticness', color='music_genre_name')\n",
    "\n",
    "# non danceable songs are of the highest acoustecness\n",
    "# danceability and popularity are not correlated\n",
    "# for each popularity, the least danceable songs tend to have the highest acousticness (at least until about 45 popularity)***"
   ]
  },
  {
   "cell_type": "code",
   "execution_count": 0,
   "metadata": {
    "collapsed": false
   },
   "outputs": [
   ],
   "source": [
    "df = df.sort_values(by=[\"key\"])\n",
    "px.bar(df, x='music_genre_name', y='tempo',color='key')\n",
    "\n",
    "# tempo is highest for classical\n",
    "# tempo is lowest for electronic\n",
    "# clear pattern in tempo per genre"
   ]
  },
  {
   "cell_type": "markdown",
   "metadata": {
    "collapsed": false
   },
   "source": [
    "# ____________________________________________________________________________________________________\n",
    "\n"
   ]
  },
  {
   "cell_type": "markdown",
   "metadata": {
    "collapsed": false
   },
   "source": [
    "## Spiting and scaling data"
   ]
  },
  {
   "cell_type": "code",
   "execution_count": 224,
   "metadata": {
    "collapsed": false
   },
   "outputs": [
   ],
   "source": [
    "X = df.loc[:,df.columns[:-2]]#input_columns\n",
    "y= df['music_genre']#what we want\n",
    "\n",
    "X_train, X_test, y_train, y_test = train_test_split(X, y, test_size=0.2, random_state=0)\n",
    "\n",
    "sc = preprocessing.StandardScaler()\n",
    "X_train = sc.fit_transform(X_train)\n",
    "X_test = sc.transform (X_test)\n",
    "\n",
    "#for heat map\n",
    "labels = ['Electronic', 'Anime', 'Jazz', 'Alternative', 'Country', 'Rap', 'Blues', 'Rock', 'Classical', 'Hip-Hop']"
   ]
  },
  {
   "cell_type": "markdown",
   "metadata": {
    "collapsed": false
   },
   "source": [
    "# ____________________________________________________________________________________________________\n",
    "\n"
   ]
  },
  {
   "cell_type": "markdown",
   "metadata": {
    "collapsed": false
   },
   "source": [
    "## Logistic Regression  "
   ]
  },
  {
   "cell_type": "code",
   "execution_count": 0,
   "metadata": {
    "collapsed": false
   },
   "outputs": [
   ],
   "source": [
    "\n",
    "# # #prepocessing dataset\n",
    "# #X = df.loc[:, df.columns != 'music_genre']\n",
    "# #y = df.music_genre\n",
    "# X_train, X_test, y_train, y_test = train_test_split(X, y, test_size=0.20, random_state=5, stratify=y)\n",
    "\n",
    "# # print(X_train.shape)\n",
    "# # print(X_test.shape)\n",
    "# # print(y_train.shape)\n",
    "# # print(y_test.shape)\n",
    "\n",
    "# scaler = preprocessing.StandardScaler()\n",
    "# X_train_scaled = scaler.fit_transform(X_train)\n",
    "# X_test_scaled = scaler.transform(X_test)\n",
    "\n",
    "#model building\n",
    "model = LogisticRegression()\n",
    "model.fit(X_train_scaled, y_train)\n",
    "\n",
    "y_pred = model.predict(X_test_scaled)\n",
    "\n",
    "X_train_acc = model.score(X_train_scaled, y_train)\n",
    "print(\"The Accuracy for Training Set is {}\".format(X_train_acc*100))\n",
    "test_acc = model.score(X_test_scaled, y_test)\n",
    "print(\"The Accuracy for Test Set is {}\".format(test_acc*100))\n",
    "print(classification_report(y_test, y_pred))\n",
    "\n",
    "#Confusion matrixa\n",
    "sns.heatmap(confusion_matrix(y_test, y_pred), annot=True, fmt='g', xticklabels=labels, yticklabels=labels)\n"
   ]
  },
  {
   "cell_type": "markdown",
   "metadata": {
    "collapsed": false
   },
   "source": [
    "# ____________________________________________________________________________________________________\n",
    "\n"
   ]
  },
  {
   "cell_type": "markdown",
   "metadata": {
    "collapsed": false
   },
   "source": [
    "## Naive Bayes \n",
    "About  Naive Bayes :\n",
    "Native Bayes is a machine learning model for classification that uses the Bayes Theorem(\t<img src=\"https://s0.wp.com/latex.php?latex=%5Ctextrm%7BP%28H+%5Ctextbar+E%29+%3D+%7D+%C2%A0%5Cfrac%7B%5Ctextrm%7B+P%28E+%5Ctextbar+H%29+%2A+P%28H%29%7D%7D+%7B%5Ctextrm%7BP%28E%29%7D%7D&bg=ffffff&fg=000&s=0&c=20201002\" alt=\"img\" width=\"200\"/>\t)\n",
    "\n",
    "\n",
    "  -  P(H) is the probability of hypothesis H being true. This is known as the prior probability.\n",
    "  -  P(E) is the probability of the evidence(regardless of the hypothesis).\n",
    "  -  P(E|H) is the probability of the evidence given that hypothesis is true.\n",
    "  -  P(H|E) is the probability of the hypothesis given that the evidence is there.\n",
    "\n",
    "\n",
    "Good at  predicting:\n",
    "- Classical\n",
    "- Anime\n",
    "\n",
    "Bad at predicting:\n",
    "- everything else"
   ]
  },
  {
   "cell_type": "code",
   "execution_count": 0,
   "metadata": {
    "collapsed": false
   },
   "outputs": [
   ],
   "source": [
    "gnb = GaussianNB()\n",
    "y_hat = gnb.fit(X_train, y_train).predict(X_test)\n",
    "\n",
    "sns.heatmap(confusion_matrix(y_test, y_hat), annot=True, fmt='g', xticklabels=labels, yticklabels=labels)"
   ]
  },
  {
   "cell_type": "markdown",
   "metadata": {
    "collapsed": false
   },
   "source": [
    "## Accuracy"
   ]
  },
  {
   "cell_type": "code",
   "execution_count": 0,
   "metadata": {
    "collapsed": false,
    "scrolled": true
   },
   "outputs": [
   ],
   "source": [
    "print((np.sum((y_test - y_hat)**2))/len(y_test) )#mean squared error\n",
    "print(f1_score(y_test, y_hat, average=None))\n",
    "print(classification_report(y_test, y_hat,target_names=[i+\":\" for i in labels]))"
   ]
  },
  {
   "cell_type": "markdown",
   "metadata": {
    "collapsed": false
   },
   "source": [
    "# ____________________________________________________________________________________________________\n",
    "\n"
   ]
  },
  {
   "cell_type": "markdown",
   "metadata": {
    "collapsed": false
   },
   "source": [
    "## Classification Trees\n",
    "\n"
   ]
  },
  {
   "cell_type": "markdown",
   "metadata": {
    "collapsed": false
   },
   "source": [
    "**About Classification Trees:** \n",
    "\n",
    "Decision Trees \\(DTs\\) are a non\\-parametric supervised learning method used for classification and regression. The goal is to create a model that predicts the value of a target variable by learning simple decision rules inferred from the data features. A tree can be seen as a piecewise constant approximation.\n",
    "\n",
    "**Pros**\n",
    "\n",
    "- Simple to understand and to interpret. Trees can be visualized.\n",
    "- Requires little data preparation.\n",
    "- Able to handle both numerical and categorical data.\n",
    "- Possible to validate a model using statistical tests.\n",
    "\n",
    "**Cons**\n",
    "\n",
    "- Decision\\-tree learners can create over\\-complex trees that do not generalize the data well.\n",
    "- Decision trees can be unstable because small variations in the data might result in a completely different tree being generated\n",
    "- Predictions of decision trees are neither smooth nor continuous, but piecewise constant approximations as seen in the above figure. \n",
    "- Decision tree learners create biased trees if some classes dominate.\n",
    "\n"
   ]
  },
  {
   "cell_type": "code",
   "execution_count": 0,
   "metadata": {
    "collapsed": false
   },
   "outputs": [
   ],
   "source": [
    "dummies = pd.get_dummies(df[\"mode\"])\n",
    "dummies.head()"
   ]
  },
  {
   "cell_type": "code",
   "execution_count": 0,
   "metadata": {
    "collapsed": false
   },
   "outputs": [
   ],
   "source": [
    "# df[\"mode\"] = dummies[\"Major\"]\n",
    "# df.head()"
   ]
  },
  {
   "cell_type": "code",
   "execution_count": 0,
   "metadata": {
    "collapsed": false
   },
   "outputs": [
   ],
   "source": [
    "#df['music_genre_codes'] = df['music_genre'].map({'Electronic': 0, 'Anime': 1, 'Jazz': 2, 'Alternative': 3, 'Country': 4, 'Rap': 5, 'Blues': 6, 'Rock': 7, 'Classical': 8, 'Hip-Hop': 9})"
   ]
  },
  {
   "cell_type": "code",
   "execution_count": 0,
   "metadata": {
    "collapsed": false
   },
   "outputs": [
   ],
   "source": [
    "#df.drop(['music_genre'], axis=1, inplace=True)"
   ]
  },
  {
   "cell_type": "code",
   "execution_count": 0,
   "metadata": {
    "collapsed": false
   },
   "outputs": [
   ],
   "source": [
    "#df.drop(['key'], axis=1, inplace=True)\n",
    "#df.head()"
   ]
  },
  {
   "cell_type": "code",
   "execution_count": 0,
   "metadata": {
    "collapsed": false
   },
   "outputs": [
   ],
   "source": [
    "#X_train, X_test, y_train, y_test = train_test_split(X, y, test_size=0.2, random_state=1) # 80% training and 20% test"
   ]
  },
  {
   "cell_type": "code",
   "execution_count": 228,
   "metadata": {
    "collapsed": false,
    "scrolled": true
   },
   "outputs": [
    {
     "name": "stderr",
     "output_type": "stream",
     "text": [
      "/projects/afffd160-11c4-4b0e-8185-cf29c729cf98/miniconda3/envs/ds_env/lib/python3.8/site-packages/sklearn/base.py:450: UserWarning:\n",
      "\n",
      "X does not have valid feature names, but DecisionTreeClassifier was fitted with feature names\n",
      "\n"
     ]
    }
   ],
   "source": [
    "y_pred = clf.predict(X_test)"
   ]
  },
  {
   "cell_type": "code",
   "execution_count": 0,
   "metadata": {
    "collapsed": false
   },
   "outputs": [
   ],
   "source": [
    "print(\"Accuracy:\",metrics.accuracy_score(y_test, y_pred))"
   ]
  },
  {
   "cell_type": "code",
   "execution_count": 227,
   "metadata": {
    "collapsed": false
   },
   "outputs": [
   ],
   "source": [
    "clf = tree.DecisionTreeClassifier()\n",
    "clf = clf.fit(X, y)"
   ]
  },
  {
   "cell_type": "code",
   "execution_count": 0,
   "metadata": {
    "collapsed": false
   },
   "outputs": [
   ],
   "source": [
    "fig, axe = plt.subplots(figsize=(30,30))\n",
    "tree.plot_tree(clf, ax = axe, fontsize=15)"
   ]
  },
  {
   "cell_type": "markdown",
   "metadata": {
    "collapsed": false
   },
   "source": [
    "# ____________________________________________________________________________________________________\n",
    "\n"
   ]
  },
  {
   "cell_type": "markdown",
   "metadata": {
    "collapsed": false
   },
   "source": [
    "## Random Forest "
   ]
  },
  {
   "cell_type": "code",
   "execution_count": 0,
   "metadata": {
    "collapsed": false
   },
   "outputs": [
   ],
   "source": [
    "#df[df['key']==\"B\"]"
   ]
  },
  {
   "cell_type": "code",
   "execution_count": 0,
   "metadata": {
    "collapsed": false
   },
   "outputs": [
   ],
   "source": [
    "target = df[\"music_genre\"]                                                                      # The target is defined.\n",
    "x_train, x_test, y_train, y_test = train_test_split(df, target, test_size=0.2, random_state=1) # Splits our data using the train_test_split() function on Sklearn."
   ]
  },
  {
   "cell_type": "code",
   "execution_count": 0,
   "metadata": {
    "collapsed": false
   },
   "outputs": [
   ],
   "source": [
    "print(x_train.shape)    # Prints out the shape of the variable.\n",
    "print(x_test.shape)     # Prints out the shape of the variable.\n",
    "print(y_train.shape)    # Prints out the shape of the variable.\n",
    "print(y_test.shape)     # Prints out the shape of the variable."
   ]
  },
  {
   "cell_type": "code",
   "execution_count": 0,
   "metadata": {
    "collapsed": false
   },
   "outputs": [
   ],
   "source": [
    "tst = RandomForestClassifier(max_depth=2, random_state=0)   # RandomForestRegressor is added.\n",
    "tst.fit(x_train, y_train)                                   # Fits the model.\n",
    "\n",
    "y_pred1 = tst.predict(x_test)                                  # Predicts.\n",
    "\n",
    "print(\"Accuracy:\", metrics.accuracy_score(y_test, y_pred1))"
   ]
  },
  {
   "cell_type": "markdown",
   "metadata": {
    "collapsed": false
   },
   "source": [
    "# ____________________________________________________________________________________________________\n",
    "\n"
   ]
  },
  {
   "cell_type": "code",
   "execution_count": 0,
   "metadata": {
    "collapsed": false
   },
   "outputs": [
   ],
   "source": [
    "iris = load_iris()\n",
    "\n",
    "# Model (can also use single decision tree)\n",
    "model = RandomForestClassifier(n_estimators=10)\n",
    "\n",
    "# Train\n",
    "model.fit(iris.data, iris.target)\n",
    "\n",
    "# Extract single tree\n",
    "estimator = model.estimators_[5]\n",
    "\n",
    "# Export as dot file\n",
    "export_graphviz(estimator, out_file='tree.dot', \n",
    "                feature_names = iris.feature_names,\n",
    "                class_names = iris.target_names,\n",
    "                rounded = True, proportion = False, \n",
    "                precision = 2, filled = True)\n",
    "\n",
    "\n",
    "# Convert to png using system command (requires Graphviz)\n",
    "call(['dot', '-Tpng', 'tree.dot', '-o', 'tree.png', '-Gdpi=600'])\n",
    "\n",
    "# Display in jupyter notebook\n",
    "Image(filename = 'tree.png')"
   ]
  },
  {
   "cell_type": "code",
   "execution_count": 0,
   "metadata": {
    "collapsed": false
   },
   "outputs": [
   ],
   "source": [
    "target = df[\"music_genre\"]                                                                      # The target is defined.\n",
    "x_train, x_test, y_train, y_test = train_test_split(df, target, test_size=0.2, random_state=1)  # Splits our data using the train_test_split() function on Sklearn.\n",
    "\n",
    "# Model (can also use single decision tree)\n",
    "model = RandomForestClassifier(n_estimators=10)\n",
    "\n",
    "# Train\n",
    "model.fit(x_train, y_train)\n",
    "\n",
    "# Extract single tree\n",
    "df1 = model.estimators_[5]\n",
    "\n",
    "# Export as dot file\n",
    "export_graphviz(df1, out_file='tree.dot', rounded = True, proportion = False, precision = 2, filled = True)\n",
    "\n",
    "# Convert to png using system command (requires Graphviz)\n",
    "call(['dot', '-Tpng', 'tree.dot', '-o', 'tree.png', '-Gdpi=600'])\n",
    "\n",
    "# Display in jupyter notebook\n",
    "Image(filename = 'tree.png')"
   ]
  },
  {
   "cell_type": "code",
   "execution_count": 0,
   "metadata": {
    "collapsed": false
   },
   "outputs": [
   ],
   "source": [
    "# Classification Tree ( Test )\n",
    "\n",
    "#target = df[\"music_genre\"]                                                                     # The target is defined.\n",
    "#x_train, x_test, y_train, y_test = train_test_split(df, target, test_size=0.2, random_state=1) # Splits our data using the train_test_split() function on Sklearn.\n",
    "\n",
    "#tst1 = DecisionTreeClassifier(max_depth = 2, random_state = 0)\n",
    "#tst1.fit(x_train, y_train)\n",
    "\n",
    "#tst1.predict(x_test)\n",
    "\n",
    "#fig, axe = plt.subplots(figsize=(20,10))\n",
    "#tree.plot_tree(tst1, ax = axe, fontsize=15)"
   ]
  },
  {
   "cell_type": "code",
   "execution_count": 0,
   "metadata": {
    "collapsed": false
   },
   "outputs": [
   ],
   "source": [
    "#label_encoder = preprocessing.LabelEncoder()\n",
    "#df['popularity']= label_encoder.fit_transform(df['popularity'])\n",
    "#df['popularity'].unique()"
   ]
  },
  {
   "cell_type": "code",
   "execution_count": 0,
   "metadata": {
    "collapsed": false
   },
   "outputs": [
   ],
   "source": [
    "import matplotlib.pyplot as plt\n",
    "plt.figure(figsize=(10,10))\n",
    "tree.plot_tree(clf)\n",
    "plt.show()"
   ]
  },
  {
   "cell_type": "markdown",
   "metadata": {
    "collapsed": false
   },
   "source": [
    "# ____________________________________________________________________________________________________"
   ]
  },
  {
   "cell_type": "markdown",
   "metadata": {
    "collapsed": false
   },
   "source": [
    "## Xgboost"
   ]
  },
  {
   "cell_type": "code",
   "execution_count": 0,
   "metadata": {
    "collapsed": false
   },
   "outputs": [
   ],
   "source": [
    "dfxg = music_genre.copy(deep=True)\n",
    "\n",
    "#dropping irrelevent columns\n",
    "badInfo = [\"instance_id\",\"obtained_date\",\"artist_name\",\"track_name\"]\n",
    "dfxg.drop(columns=badInfo,axis=1,inplace=True)\n",
    "\n",
    "#dropping null rows\n",
    "dfxg.dropna(inplace=True)\n",
    "dfxg.reset_index(drop=True, inplace=True) #Very good practice to reset how your rows are counted when you drop rows.\n",
    "\n",
    "#fixing tempo\n",
    "dfxg[\"tempo\"]=df[\"tempo\"].replace(\"?\",np.nan)\n",
    "dfxg[\"tempo\"] = df[\"tempo\"].astype(\"float\")\n",
    "dfxg[\"tempo\"]=df.groupby(\"music_genre\")[\"tempo\"].transform(lambda x: x.fillna(x.mean(skipna=True)))\n",
    "\n",
    "#fixing duration\n",
    "dfxg[\"duration_ms\"]=df[\"duration_ms\"].replace(-1.0,np.nan)\n",
    "dfxg[\"duration_ms\"]=df.groupby(\"music_genre\")[\"duration_ms\"].transform(lambda x: x.fillna(x.mean(skipna=True)))\n",
    "dfxg['duration_ms'] = np.around(df['duration_ms'],2)\n",
    "\n",
    "#creating dummy variables for categorical variables\n",
    "dummies = pd.get_dummies(dfxg[\"key\"])\n",
    "dfxg[\"A\"] = dummies[\"A\"]\n",
    "dfxg[\"B\"] = dummies[\"B\"]\n",
    "dfxg[\"C\"] = dummies[\"C\"]\n",
    "dfxg[\"D\"] = dummies[\"D\"]\n",
    "dfxg[\"E\"] = dummies[\"E\"]\n",
    "dfxg[\"F\"] = dummies[\"F\"]\n",
    "dfxg[\"G\"] = dummies[\"G\"]\n",
    "dfxg[\"A#\"] = dummies[\"A#\"]\n",
    "dfxg[\"C#\"] = dummies[\"C#\"]\n",
    "dfxg[\"D#\"] = dummies[\"D#\"]\n",
    "dfxg[\"F#\"] = dummies[\"F#\"]\n",
    "dfxg[\"G#\"] = dummies[\"G#\"]\n",
    "dfxg.drop(\"key\", axis = 1, inplace = True)\n",
    "\n",
    "dummies = pd.get_dummies(dfxg[\"mode\"])\n",
    "dfxg[\"Major\"] = dummies[\"Major\"]\n",
    "dfxg[\"Minor\"] = dummies[\"Minor\"]\n",
    "dfxg.drop(\"mode\", axis = 1, inplace = True)\n",
    "\n",
    "dummies = pd.get_dummies(dfxg[\"music_genre\"])\n",
    "dfxg[\"Electronic\"] = dummies[\"Electronic\"]\n",
    "dfxg[\"Anime\"] = dummies[\"Anime\"]\n",
    "dfxg[\"Jazz\"] = dummies[\"Jazz\"]\n",
    "dfxg[\"Alternative\"] = dummies[\"Alternative\"]\n",
    "dfxg[\"Country\"] = dummies[\"Country\"]\n",
    "dfxg[\"Rap\"] = dummies[\"Rap\"]\n",
    "dfxg[\"Blues\"] = dummies[\"Blues\"]\n",
    "dfxg[\"Rock\"] = dummies[\"Rock\"]\n",
    "dfxg[\"Classical\"] = dummies[\"Classical\"]\n",
    "dfxg[\"Hip-Hop\"] = dummies[\"Hip-Hop\"]\n",
    "dfxg.drop(\"music_genre\", axis = 1, inplace = True)\n",
    "\n",
    "#XGBoost model\n",
    "genre_list = ['Electronic', 'Anime', 'Jazz', 'Alternative', 'Country', 'Rap', 'Blues', 'Rock', 'Classical', 'Hip-Hop']\n",
    "target = pd.get_dummies(dummies)\n",
    "input_columns = dfxg.iloc[:,:-10]\n",
    "x_train, x_test, y_train, y_test = train_test_split(input_columns, target, train_size=0.8)\n",
    "scaler = preprocessing.StandardScaler().fit(x_train)\n",
    "x_train_scaled = scaler.transform(x_train)\n",
    "x_test_scaled = scaler.transform(x_test)\n",
    "\n",
    "model = XGBClassifier(use_label_encoder=False, eval_metric='mlogloss')\n",
    "model.fit(x_train_scaled, y_train)\n",
    "\n",
    "y_pred = model.predict(x_test_scaled)\n",
    "accuracy = accuracy_score(y_test, y_pred)\n",
    "print(\"Overall Accuracy: \", accuracy)\n",
    "\n",
    "total_squared_error = (np.sum((y_test - y_pred)**2))\n",
    "mean_squared_error = total_squared_error/len(y_test)\n",
    "print(mean_squared_error)\n",
    "\n",
    "#confusion matrix\n",
    "labels = ['Electronic', 'Anime', 'Jazz', 'Alternative', 'Country', 'Rap', 'Blues', 'Rock', 'Classical', 'Hip-Hop']\n",
    "sns.heatmap(confusion_matrix(y_test.values.argmax(axis=1), y_pred.argmax(axis=1)), annot=True, fmt='g', xticklabels=labels, yticklabels=labels)"
   ]
  },
  {
   "cell_type": "markdown",
   "metadata": {
    "collapsed": false
   },
   "source": [
    "# ____________________________________________________________________________________________________"
   ]
  },
  {
   "cell_type": "markdown",
   "metadata": {
    "collapsed": false
   },
   "source": [
    "## Neural Networks"
   ]
  },
  {
   "cell_type": "code",
   "execution_count": 0,
   "metadata": {
    "collapsed": false
   },
   "outputs": [
   ],
   "source": [
   ]
  },
  {
   "cell_type": "markdown",
   "metadata": {
    "collapsed": false
   },
   "source": [
    "# ____________________________________________________________________________________________________"
   ]
  }
 ],
 "metadata": {
  "kernelspec": {
   "display_name": "Python (ds_env)",
   "language": "python",
   "metadata": {
    "debugger": true
   },
   "name": "ds_env",
   "resource_dir": "/projects/afffd160-11c4-4b0e-8185-cf29c729cf98/.local/share/jupyter/kernels/ds_env"
  },
  "language_info": {
   "codemirror_mode": {
    "name": "ipython",
    "version": 3
   },
   "file_extension": ".py",
   "mimetype": "text/x-python",
   "name": "python",
   "nbconvert_exporter": "python",
   "pygments_lexer": "ipython3",
   "version": "3.8.13"
  }
 },
 "nbformat": 4,
 "nbformat_minor": 4
}